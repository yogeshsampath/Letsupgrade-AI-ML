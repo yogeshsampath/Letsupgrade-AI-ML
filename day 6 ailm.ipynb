{
 "cells": [
  {
   "cell_type": "code",
   "execution_count": 5,
   "metadata": {},
   "outputs": [
    {
     "name": "stdout",
     "output_type": "stream",
     "text": [
      "Please enter the email: yogeshsampath1999@gmail.com\n",
      "The company is:  gmail"
     ]
    }
   ],
   "source": [
    "\n",
    "a = input(\"Please enter the email: \")\n",
    "b = a.split(\"@\")\n",
    "c = b[0]\n",
    "d = b[1]\n",
    "e = d.split(\".\")\n",
    "print(\"The company is: \",e[0],end=\"\")"
   ]
  },
  {
   "cell_type": "code",
   "execution_count": 4,
   "metadata": {},
   "outputs": [
    {
     "name": "stdout",
     "output_type": "stream",
     "text": [
      "Enter comma separated words: yogesh, madhu\n",
      "[' madhu', 'yogesh']\n"
     ]
    }
   ],
   "source": [
    "'''Question 2. Write a program that accepts a comma-separated sequence of words as input and prints the words in a comma\n",
    "separated sequence after sorting them alphabetically.'''\n",
    "string = str (input(\"Enter comma separated words: \"))\n",
    "li = string.split (\",\")\n",
    "li.sort()\n",
    "print(li)"
   ]
  },
  {
   "cell_type": "code",
   "execution_count": 9,
   "metadata": {},
   "outputs": [
    {
     "name": "stdout",
     "output_type": "stream",
     "text": [
      "Please enter the space separated numbers: 12 12 12 13 13 14 15\n",
      "The list without duplicates is : [12, 13, 14, 15]\n"
     ]
    }
   ],
   "source": [
    "# question 5.\n",
    "\n",
    "number_list = input(\"Please enter the space separated numbers: \")\n",
    "number_list = list(map(int, number_list.split()))\n",
    " \n",
    "remove = [] \n",
    "[remove.append(x) for x in number_list if x not in remove] \n",
    "\n",
    "print (\"The list without duplicates is : \" + str(remove))"
   ]
  },
  {
   "cell_type": "code",
   "execution_count": 12,
   "metadata": {},
   "outputs": [
    {
     "name": "stdout",
     "output_type": "stream",
     "text": [
      "Please enter the space separated numbers: 12 12 12 13 14 114 15\n",
      "The missing number is:  -156\n"
     ]
    }
   ],
   "source": [
    "# question 4 .\n",
    "A = input(\"Please enter the space separated numbers: \")\n",
    "A = list(map(int, A.split()))\n",
    "\n",
    "def MissingNumber(A): \n",
    "    length = len(A) \n",
    "    total = (length + 1) * (length + 2) / 2\n",
    "    sum_number = sum(A) \n",
    "    return print(\"The missing number is: \", int(total - sum_number))\n",
    "\n",
    "MissingNumber(A)\n"
   ]
  },
  {
   "cell_type": "code",
   "execution_count": 15,
   "metadata": {},
   "outputs": [
    {
     "name": "stdout",
     "output_type": "stream",
     "text": [
      "a is: {'abc', 'one', 'ten', 'ninetysix'}\n",
      "b is: {'ten', 'world', 'to', 'ninetysix', 'ninetyone'}\n",
      "a got updated: {'abc', 'one', 'ten', 'two', 'ninetysix', 'times', 'is', 'four'}\n",
      "ten, world, to, five, ninetysix, ninetyone, five in b\n",
      "seven in a\n",
      "c is union of a & b: {'abc', 'one', 'ten', 'world', 'to', 'five', 'two', 'ninetysix', 'times', 'four', 'ninetyone'}\n",
      "d is intersection of a & b: {'ninetysix', 'ten'}\n",
      "d is subset of a: True\n",
      "c is superset of b: True\n",
      "c is disjoint of d: False\n",
      "e is a symmetric difference between a and b: {'world', 'five', 'two', 'ninetyone', 'abc', 'one', 'to', 'times', 'four'}\n",
      "c and d difference update: None\n",
      "c and d intersection update: None\n",
      "pop from d: ninetysix\n",
      "f is copy of b: ninetysix, ten, world, to, five, ninetyone, \n",
      "c is cleared, so empty set: set()\n"
     ]
    }
   ],
   "source": [
    "#queston 3\n",
    "\n",
    "## Can not hold duplicates and un ordered & un indexed\n",
    "a = {\"abc\", \"one\", \"ten\", \"ninetysix\", \"abc\"}\n",
    "print(\"a is: {0}\".format(a))\n",
    "\n",
    "b = {\"ninetyone\", \"to\", \"ninetysix\", \"ten\", \"world\"}\n",
    "print(\"b is: {0}\".format(b))\n",
    "\n",
    "b.add(\"five\")\n",
    "\n",
    "a.update([\"two\", \"times\", \"two\", \"is\", \"four\"])\n",
    "print(\"a got updated: {0}\".format(a))\n",
    "\n",
    "for x in b:\n",
    "    print(x, end=\", \")\n",
    "\n",
    "print(\"{0} in b\".format(\"five\",\"five\" in b))\n",
    "print(\"{0} in a\".format(\"seven\",\"seven\" in b))\n",
    "\n",
    "assert (a.remove(\"is\") is not KeyError), \"Raising an error???\"\n",
    "\n",
    "a.discard(\"never\")\n",
    "\n",
    "# c is aUb\n",
    "c = a.union(b)\n",
    "print(\"c is union of a & b: {0}\".format(c))\n",
    "\n",
    "# d is aNb (intersect)\n",
    "d = a.intersection(b)\n",
    "print(\"d is intersection of a & b: {0}\".format(d))\n",
    "\n",
    "print(\"d is subset of a: {0}\".format(d.issubset(a)))\n",
    "print(\"c is superset of b: {0}\".format(c.issuperset(b)))\n",
    "\n",
    "print(\"c is disjoint of d: {0}\".format(c.isdisjoint(d)))\n",
    "\n",
    "e = a.symmetric_difference(b)\n",
    "print(\"e is a symmetric difference between a and b: {0}\".format(e))\n",
    "print(\"c and d difference update: {0}\".format(c.difference_update(d)))\n",
    "\n",
    "print(\"c and d intersection update: {0}\".format(c.intersection_update(d)))\n",
    "\n",
    "print(\"pop from d: {0}\".format(d.pop()))\n",
    "\n",
    "f = b.copy()\n",
    "print(\"f is copy of b\", end=\": \")\n",
    "for x in f:\n",
    "    print(x, end=\", \")\n",
    "\n",
    "c.clear()\n",
    "print(\"\\nc is cleared, so empty set: {0}\".format(c))\n",
    "\n",
    "del a, b, c, d, e, f"
   ]
  },
  {
   "cell_type": "code",
   "execution_count": null,
   "metadata": {},
   "outputs": [],
   "source": []
  }
 ],
 "metadata": {
  "kernelspec": {
   "display_name": "Python 3",
   "language": "python",
   "name": "python3"
  },
  "language_info": {
   "codemirror_mode": {
    "name": "ipython",
    "version": 3
   },
   "file_extension": ".py",
   "mimetype": "text/x-python",
   "name": "python",
   "nbconvert_exporter": "python",
   "pygments_lexer": "ipython3",
   "version": "3.7.6"
  }
 },
 "nbformat": 4,
 "nbformat_minor": 4
}
