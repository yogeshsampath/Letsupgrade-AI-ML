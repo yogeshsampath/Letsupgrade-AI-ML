{
 "cells": [
  {
   "cell_type": "markdown",
   "metadata": {},
   "source": [
    "# 1st assignment"
   ]
  },
  {
   "cell_type": "code",
   "execution_count": 107,
   "metadata": {},
   "outputs": [
    {
     "name": "stdout",
     "output_type": "stream",
     "text": [
      "[3, 5, 7, 11, 13, 17, 19, 23, 29, 31, 37, 41, 43, 47, 53, 59, 61, 67, 71, 73]\n"
     ]
    }
   ],
   "source": [
    "\n",
    "nePrime =[]\n",
    "num =1\n",
    "\n",
    "while (len(nePrime) < 20):\n",
    "    div = []\n",
    "   \n",
    "    for i in range(1,num+1):\n",
    "        if (num%i == 0):\n",
    "            div.append(i)\n",
    "\n",
    "    if (len(div) == 2 and num%2 !=0):\n",
    "        nePrime.append(num)\n",
    "        \n",
    "    div.clear()   \n",
    "    num = num + 1\n",
    "\n",
    "print(nePrime)"
   ]
  },
  {
   "cell_type": "markdown",
   "metadata": {},
   "source": [
    "# 2nd assignment\n"
   ]
  },
  {
   "cell_type": "code",
   "execution_count": 109,
   "metadata": {},
   "outputs": [
    {
     "name": "stdout",
     "output_type": "stream",
     "text": [
      "YOGESH\n",
      "Yogesh\n",
      "yogesh\n",
      "True\n",
      "True\n",
      "['Welcome ', ' to the world of ML', 'congrts']\n",
      "Welcome , To The World Of Ml,Congrts\n",
      "Ashok\n",
      "I'm from Bengaluru\n",
      "False\n",
      "False\n",
      "       yogesh       \n"
     ]
    }
   ],
   "source": [
    "a = \"yogesh\"\n",
    "b = \"sampath\"\n",
    "\n",
    "print(a.upper())\n",
    "print(a.capitalize())\n",
    "print(a.lower())\n",
    "print(a.isalpha())\n",
    "print(a.isalnum())\n",
    "\n",
    "asplt = \"Welcome , to the world of ML,congrts\"\n",
    "print(asplt.split(','))\n",
    "print(asplt.title())\n",
    "space = \"      Ashok       \"\n",
    "print(space.strip())\n",
    "\n",
    "\n",
    "re = \"I'm from Bangalore\"\n",
    "\n",
    "red = re.replace(\"Bangalore\", \"Bengaluru\")\n",
    "\n",
    "print(red)\n",
    "print(b.startswith(\"P\"))\n",
    "\n",
    "print(a.istitle())\n",
    "print(a.center(20))"
   ]
  },
  {
   "cell_type": "markdown",
   "metadata": {},
   "source": [
    "# 3rd assignment"
   ]
  },
  {
   "cell_type": "code",
   "execution_count": 110,
   "metadata": {},
   "outputs": [
    {
     "name": "stdout",
     "output_type": "stream",
     "text": [
      "Yes\n"
     ]
    }
   ],
   "source": [
    "def checkPalindrome(s): \n",
    "    return s == s[::-1] \n",
    "  \n",
    "s = \"madam\"\n",
    "rev = checkPalindrome(s) \n",
    "  \n",
    "if rev: \n",
    "    print(\"Yes\") \n",
    "else: \n",
    "    print(\"No\")"
   ]
  },
  {
   "cell_type": "markdown",
   "metadata": {},
   "source": [
    "anagrams or not"
   ]
  },
  {
   "cell_type": "markdown",
   "metadata": {},
   "source": [
    "# 4th assignment"
   ]
  },
  {
   "cell_type": "code",
   "execution_count": 112,
   "metadata": {},
   "outputs": [
    {
     "name": "stdout",
     "output_type": "stream",
     "text": [
      "yogeshismyname\n"
     ]
    }
   ],
   "source": [
    "s = \"yogesh is my name\"\n",
    "a=\"\"\n",
    "\n",
    "for i in range(len(s)):\n",
    "    if(s[i].isalnum()):\n",
    "        a=a+s[i]\n",
    "print(a)"
   ]
  },
  {
   "cell_type": "code",
   "execution_count": null,
   "metadata": {},
   "outputs": [],
   "source": []
  }
 ],
 "metadata": {
  "kernelspec": {
   "display_name": "Python 3",
   "language": "python",
   "name": "python3"
  },
  "language_info": {
   "codemirror_mode": {
    "name": "ipython",
    "version": 3
   },
   "file_extension": ".py",
   "mimetype": "text/x-python",
   "name": "python",
   "nbconvert_exporter": "python",
   "pygments_lexer": "ipython3",
   "version": "3.7.6"
  }
 },
 "nbformat": 4,
 "nbformat_minor": 4
}
