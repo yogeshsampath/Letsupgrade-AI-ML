{
 "cells": [
  {
   "cell_type": "code",
   "execution_count": 1,
   "metadata": {},
   "outputs": [],
   "source": [
    "import os\n",
    "import sys\n",
    "import numpy as np\n",
    "import pandas as pd\n",
    "from sklearn.model_selection import train_test_split\n",
    "from scipy.io import loadmat"
   ]
  },
  {
   "cell_type": "code",
   "execution_count": 2,
   "metadata": {},
   "outputs": [
    {
     "name": "stderr",
     "output_type": "stream",
     "text": [
      "C:\\Users\\user\\anaconda\\lib\\site-packages\\sklearn\\utils\\deprecation.py:144: FutureWarning: The sklearn.utils.testing module is  deprecated in version 0.22 and will be removed in version 0.24. The corresponding classes / functions should instead be imported from sklearn.utils. Anything that cannot be imported from sklearn.utils is now part of the private API.\n",
      "  warnings.warn(message, FutureWarning)\n"
     ]
    }
   ],
   "source": [
    "\n",
    "from pyod.models.pca import PCA\n",
    "from pyod.models.mcd import MCD\n",
    "from pyod.models.ocsvm import OCSVM\n",
    "from pyod.models.lof import LOF\n",
    "from pyod.models.cblof import CBLOF\n",
    "from pyod.models.knn import KNN\n",
    "from pyod.models.hbos import HBOS\n",
    "from pyod.models.abod import ABOD\n",
    "from pyod.models.iforest import IForest\n",
    "from pyod.models.feature_bagging import FeatureBagging\n"
   ]
  },
  {
   "cell_type": "code",
   "execution_count": 3,
   "metadata": {},
   "outputs": [],
   "source": [
    "from pyod.utils.utility import standardizer\n",
    "from pyod.utils.utility import precision_n_scores\n",
    "from sklearn.metrics import roc_auc_score"
   ]
  },
  {
   "cell_type": "code",
   "execution_count": 4,
   "metadata": {},
   "outputs": [
    {
     "data": {
      "text/plain": [
       "['.\\\\Anamoly_detec_data\\\\arrhythmia.mat',\n",
       " '.\\\\Anamoly_detec_data\\\\cardio.mat',\n",
       " '.\\\\Anamoly_detec_data\\\\glass.mat',\n",
       " '.\\\\Anamoly_detec_data\\\\ionosphere.mat',\n",
       " '.\\\\Anamoly_detec_data\\\\letter.mat',\n",
       " '.\\\\Anamoly_detec_data\\\\lympho.mat',\n",
       " '.\\\\Anamoly_detec_data\\\\mnist.mat',\n",
       " '.\\\\Anamoly_detec_data\\\\musk.mat',\n",
       " '.\\\\Anamoly_detec_data\\\\optdigits.mat',\n",
       " '.\\\\Anamoly_detec_data\\\\pendigits.mat',\n",
       " '.\\\\Anamoly_detec_data\\\\pima.mat',\n",
       " '.\\\\Anamoly_detec_data\\\\satellite.mat',\n",
       " '.\\\\Anamoly_detec_data\\\\satimage-2.mat',\n",
       " '.\\\\Anamoly_detec_data\\\\shuttle.mat',\n",
       " '.\\\\Anamoly_detec_data\\\\vertebral.mat',\n",
       " '.\\\\Anamoly_detec_data\\\\vowels.mat',\n",
       " '.\\\\Anamoly_detec_data\\\\wbc.mat']"
      ]
     },
     "execution_count": 4,
     "metadata": {},
     "output_type": "execute_result"
    }
   ],
   "source": [
    "from glob import glob, iglob\n",
    "mat_file_list = [i for i in glob('.\\Anamoly_detec_data\\*.mat')]\n",
    "mat_file_list"
   ]
  },
  {
   "cell_type": "code",
   "execution_count": null,
   "metadata": {},
   "outputs": [],
   "source": []
  }
 ],
 "metadata": {
  "kernelspec": {
   "display_name": "Python 3",
   "language": "python",
   "name": "python3"
  },
  "language_info": {
   "codemirror_mode": {
    "name": "ipython",
    "version": 3
   },
   "file_extension": ".py",
   "mimetype": "text/x-python",
   "name": "python",
   "nbconvert_exporter": "python",
   "pygments_lexer": "ipython3",
   "version": "3.7.6"
  }
 },
 "nbformat": 4,
 "nbformat_minor": 4
}
